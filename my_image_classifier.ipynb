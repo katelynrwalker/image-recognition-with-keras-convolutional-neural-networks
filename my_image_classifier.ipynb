{
 "cells": [
  {
   "cell_type": "code",
   "execution_count": 15,
   "metadata": {},
   "outputs": [],
   "source": [
    "from keras.models import Sequential\n",
    "from keras.layers import Dense, Flatten, Conv2D, MaxPooling2D\n",
    "from keras.preprocessing import image\n",
    "from keras.preprocessing.image import ImageDataGenerator\n",
    "import os\n",
    "import skimage.io\n",
    "import numpy as np"
   ]
  },
  {
   "cell_type": "code",
   "execution_count": 29,
   "metadata": {},
   "outputs": [],
   "source": [
    "def get_image_stats(direct):\n",
    "    heights = []\n",
    "    widths = []\n",
    "    for img in os.listdir(direct):\n",
    "        path = os.path.join(direct, img)\n",
    "        image = skimage.io.imread(path)\n",
    "        heights.append(image.shape[0])\n",
    "        widths.append(image.shape[1])\n",
    "    print(min(heights))\n",
    "    print(max(heights))\n",
    "    print(min(widths))\n",
    "    print(max(widths))"
   ]
  },
  {
   "cell_type": "code",
   "execution_count": 30,
   "metadata": {},
   "outputs": [
    {
     "name": "stdout",
     "output_type": "stream",
     "text": [
      "340\n",
      "340\n",
      "226\n",
      "780\n"
     ]
    }
   ],
   "source": [
    "cars = get_image_stats(\"./data/training_set/cars\")"
   ]
  },
  {
   "cell_type": "code",
   "execution_count": 33,
   "metadata": {},
   "outputs": [],
   "source": [
    "# Configure the CNN (Convolutional Neural Network).\n",
    "\n",
    "classifier = Sequential()\n",
    "\n",
    "# Convolution - extracting appropriate features from the input image.\n",
    "# Non-Linearity (RELU) - replacing all negative pixel values in feature map by zero.\n",
    "\n",
    "classifier.add(Conv2D(32, (3, 3), input_shape=(64, 64, 3),\n",
    "               activation='relu'))\n",
    "\n",
    "# Pooling: reduces dimensionality of the feature maps but keeps the most important information.\n",
    "\n",
    "classifier.add(MaxPooling2D(pool_size=(2, 2)))\n",
    "\n",
    "# Adding a second convolutional layer and flattening in order to arrange 3D volumes into a 1D vector.\n",
    "\n",
    "classifier.add(Conv2D(32, (3, 3), activation='relu'))\n",
    "classifier.add(MaxPooling2D(pool_size=(2, 2)))\n",
    "classifier.add(Flatten())\n",
    "\n",
    "# Fully connected layers: ensures connections to all activations in the previous layer.\n",
    "\n",
    "classifier.add(Dense(units=128, activation='relu'))\n",
    "classifier.add(Dense(units=1, activation='sigmoid'))"
   ]
  },
  {
   "cell_type": "code",
   "execution_count": 37,
   "metadata": {},
   "outputs": [],
   "source": [
    "classifier.compile(optimizer='adam', loss='binary_crossentropy',\n",
    "                   metrics=['accuracy'])"
   ]
  },
  {
   "cell_type": "code",
   "execution_count": 34,
   "metadata": {},
   "outputs": [],
   "source": [
    "train_imagedata = ImageDataGenerator(rescale=1. / 255, shear_range=0.2,\n",
    "        zoom_range=0.2, horizontal_flip=True)\n",
    "test_imagedata = ImageDataGenerator(rescale=1. / 255)"
   ]
  },
  {
   "cell_type": "code",
   "execution_count": 35,
   "metadata": {},
   "outputs": [
    {
     "name": "stdout",
     "output_type": "stream",
     "text": [
      "Found 160 images belonging to 2 classes.\n",
      "Found 40 images belonging to 2 classes.\n"
     ]
    }
   ],
   "source": [
    "training_set = train_imagedata.flow_from_directory('data/training_set', target_size=(64, 64), batch_size=32, class_mode='binary')\n",
    "val_set = test_imagedata.flow_from_directory('data/val_set', target_size=(64, 64), batch_size=32, class_mode='binary')"
   ]
  },
  {
   "cell_type": "code",
   "execution_count": 38,
   "metadata": {},
   "outputs": [
    {
     "name": "stdout",
     "output_type": "stream",
     "text": [
      "Epoch 1/30\n",
      "30/30 [==============================] - 14s 478ms/step - loss: 0.4202 - acc: 0.7948 - val_loss: 0.5222 - val_acc: 0.7750\n",
      "Epoch 2/30\n",
      "30/30 [==============================] - 14s 451ms/step - loss: 0.2446 - acc: 0.8979 - val_loss: 0.3263 - val_acc: 0.8250\n",
      "Epoch 3/30\n",
      "30/30 [==============================] - 12s 391ms/step - loss: 0.1695 - acc: 0.9271 - val_loss: 0.3936 - val_acc: 0.8000\n",
      "Epoch 4/30\n",
      "30/30 [==============================] - 12s 392ms/step - loss: 0.1291 - acc: 0.9406 - val_loss: 0.5562 - val_acc: 0.8000\n",
      "Epoch 5/30\n",
      "30/30 [==============================] - 12s 395ms/step - loss: 0.0794 - acc: 0.9740 - val_loss: 0.6776 - val_acc: 0.8000\n",
      "Epoch 6/30\n",
      "30/30 [==============================] - 12s 399ms/step - loss: 0.0795 - acc: 0.9667 - val_loss: 0.2522 - val_acc: 0.9000\n",
      "Epoch 7/30\n",
      "30/30 [==============================] - 12s 397ms/step - loss: 0.0678 - acc: 0.9698 - val_loss: 0.8211 - val_acc: 0.7500\n",
      "Epoch 8/30\n",
      "30/30 [==============================] - 12s 403ms/step - loss: 0.0316 - acc: 0.9948 - val_loss: 0.5978 - val_acc: 0.8500\n",
      "Epoch 9/30\n",
      "30/30 [==============================] - 12s 398ms/step - loss: 0.0425 - acc: 0.9823 - val_loss: 0.5290 - val_acc: 0.8500\n",
      "Epoch 10/30\n",
      "30/30 [==============================] - 12s 397ms/step - loss: 0.0197 - acc: 0.9948 - val_loss: 0.5498 - val_acc: 0.8750\n",
      "Epoch 11/30\n",
      "30/30 [==============================] - 12s 399ms/step - loss: 0.0097 - acc: 1.0000 - val_loss: 0.8015 - val_acc: 0.8500\n",
      "Epoch 12/30\n",
      "30/30 [==============================] - 12s 397ms/step - loss: 0.0061 - acc: 1.0000 - val_loss: 0.7979 - val_acc: 0.8500\n",
      "Epoch 13/30\n",
      "30/30 [==============================] - 12s 397ms/step - loss: 0.0052 - acc: 1.0000 - val_loss: 0.8267 - val_acc: 0.8750\n",
      "Epoch 14/30\n",
      "30/30 [==============================] - 12s 410ms/step - loss: 0.0085 - acc: 0.9990 - val_loss: 1.2438 - val_acc: 0.8250\n",
      "Epoch 15/30\n",
      "30/30 [==============================] - 12s 401ms/step - loss: 0.0062 - acc: 0.9990 - val_loss: 0.7700 - val_acc: 0.8750\n",
      "Epoch 16/30\n",
      "30/30 [==============================] - 12s 407ms/step - loss: 0.0015 - acc: 1.0000 - val_loss: 0.8356 - val_acc: 0.8750\n",
      "Epoch 17/30\n",
      "30/30 [==============================] - 12s 396ms/step - loss: 0.0016 - acc: 1.0000 - val_loss: 0.8806 - val_acc: 0.8750\n",
      "Epoch 18/30\n",
      "30/30 [==============================] - 12s 404ms/step - loss: 0.0015 - acc: 1.0000 - val_loss: 0.8148 - val_acc: 0.8750\n",
      "Epoch 19/30\n",
      "30/30 [==============================] - 12s 398ms/step - loss: 0.0017 - acc: 1.0000 - val_loss: 0.7658 - val_acc: 0.8750\n",
      "Epoch 20/30\n",
      "30/30 [==============================] - 12s 399ms/step - loss: 0.0036 - acc: 0.9990 - val_loss: 0.7119 - val_acc: 0.8750\n",
      "Epoch 21/30\n",
      "30/30 [==============================] - 12s 402ms/step - loss: 9.0141e-04 - acc: 1.0000 - val_loss: 0.8115 - val_acc: 0.8750\n",
      "Epoch 22/30\n",
      "30/30 [==============================] - 12s 408ms/step - loss: 9.7687e-04 - acc: 1.0000 - val_loss: 1.0663 - val_acc: 0.8500\n",
      "Epoch 23/30\n",
      "30/30 [==============================] - 12s 401ms/step - loss: 7.7386e-04 - acc: 1.0000 - val_loss: 0.9797 - val_acc: 0.8750\n",
      "Epoch 24/30\n",
      "30/30 [==============================] - 12s 399ms/step - loss: 5.7744e-04 - acc: 1.0000 - val_loss: 0.8180 - val_acc: 0.8750\n",
      "Epoch 25/30\n",
      "30/30 [==============================] - 12s 403ms/step - loss: 7.2742e-04 - acc: 1.0000 - val_loss: 1.0498 - val_acc: 0.8750\n",
      "Epoch 26/30\n",
      "30/30 [==============================] - 12s 401ms/step - loss: 5.7372e-04 - acc: 1.0000 - val_loss: 0.8283 - val_acc: 0.8750\n",
      "Epoch 27/30\n",
      "30/30 [==============================] - 12s 405ms/step - loss: 3.1074e-04 - acc: 1.0000 - val_loss: 0.9443 - val_acc: 0.8750\n",
      "Epoch 28/30\n",
      "30/30 [==============================] - 13s 419ms/step - loss: 4.2327e-04 - acc: 1.0000 - val_loss: 0.8765 - val_acc: 0.8750\n",
      "Epoch 29/30\n",
      "30/30 [==============================] - 12s 399ms/step - loss: 3.6933e-04 - acc: 1.0000 - val_loss: 0.9590 - val_acc: 0.8750\n",
      "Epoch 30/30\n",
      "30/30 [==============================] - 12s 389ms/step - loss: 2.6523e-04 - acc: 1.0000 - val_loss: 0.9292 - val_acc: 0.8750\n"
     ]
    }
   ],
   "source": [
    "history=classifier.fit_generator(training_set, steps_per_epoch=30, epochs=30,\n",
    "                         validation_data=val_set,\n",
    "                         validation_steps=30)"
   ]
  },
  {
   "cell_type": "code",
   "execution_count": null,
   "metadata": {},
   "outputs": [],
   "source": []
  }
 ],
 "metadata": {
  "kernelspec": {
   "display_name": "Python 3",
   "language": "python",
   "name": "python3"
  },
  "language_info": {
   "codemirror_mode": {
    "name": "ipython",
    "version": 3
   },
   "file_extension": ".py",
   "mimetype": "text/x-python",
   "name": "python",
   "nbconvert_exporter": "python",
   "pygments_lexer": "ipython3",
   "version": "3.6.6"
  }
 },
 "nbformat": 4,
 "nbformat_minor": 2
}
